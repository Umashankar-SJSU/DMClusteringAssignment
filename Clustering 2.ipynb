{
  "nbformat": 4,
  "nbformat_minor": 0,
  "metadata": {
    "colab": {
      "name": "GMM_data_clustering.ipynb",
      "provenance": [],
      "collapsed_sections": []
    },
    "kernelspec": {
      "name": "python3",
      "display_name": "Python 3"
    },
    "language_info": {
      "name": "python"
    }
  },
  "cells": [
    {
      "cell_type": "markdown",
      "metadata": {
        "id": "RL0tEHe86IL3"
      },
      "source": [
        "We are comparing the stock price of last 5 years by clustering the dataset using GMM.\n",
        "\n",
        "I have picked the dataset from Kaggle. Link - https://www.kaggle.com/camnugent/sandp500"
      ]
    },
    {
      "cell_type": "code",
      "metadata": {
        "colab": {
          "base_uri": "https://localhost:8080/"
        },
        "id": "kxULDUNLb1NT",
        "outputId": "86878ef5-7e7c-4ca3-ca40-8aa04d499d20"
      },
      "source": [
        "%matplotlib inline\n",
        "import matplotlib.pyplot as plt\n",
        "import seaborn as sns; sns.set()\n",
        "import numpy as np\n",
        "import pandas as pd\n",
        "import io\n",
        "\n",
        "from google.colab import drive\n",
        "drive.mount('/content/gdrive', force_remount=True)"
      ],
      "execution_count": null,
      "outputs": [
        {
          "output_type": "stream",
          "name": "stdout",
          "text": [
            "Mounted at /content/gdrive\n"
          ]
        }
      ]
    },
    {
      "cell_type": "markdown",
      "metadata": {
        "id": "ASaXSHqE7kfh"
      },
      "source": [
        "Read and display the data"
      ]
    },
    {
      "cell_type": "code",
      "metadata": {
        "colab": {
          "base_uri": "https://localhost:8080/",
          "height": 419
        },
        "id": "PuqcjmWHcNHI",
        "outputId": "76065882-2082-4b56-f979-4fa0e679d67f"
      },
      "source": [
        "stocks_data=pd.read_csv('/content/gdrive/My Drive/all_stocks_5yr.csv')\n",
        "companies_list = stocks_data.groupby(['Name']).sum()\n",
        "companies_list\n",
        "stocks_data"
      ],
      "execution_count": null,
      "outputs": [
        {
          "output_type": "execute_result",
          "data": {
            "text/html": [
              "<div>\n",
              "<style scoped>\n",
              "    .dataframe tbody tr th:only-of-type {\n",
              "        vertical-align: middle;\n",
              "    }\n",
              "\n",
              "    .dataframe tbody tr th {\n",
              "        vertical-align: top;\n",
              "    }\n",
              "\n",
              "    .dataframe thead th {\n",
              "        text-align: right;\n",
              "    }\n",
              "</style>\n",
              "<table border=\"1\" class=\"dataframe\">\n",
              "  <thead>\n",
              "    <tr style=\"text-align: right;\">\n",
              "      <th></th>\n",
              "      <th>date</th>\n",
              "      <th>open</th>\n",
              "      <th>high</th>\n",
              "      <th>low</th>\n",
              "      <th>close</th>\n",
              "      <th>volume</th>\n",
              "      <th>Name</th>\n",
              "    </tr>\n",
              "  </thead>\n",
              "  <tbody>\n",
              "    <tr>\n",
              "      <th>0</th>\n",
              "      <td>2013-02-08</td>\n",
              "      <td>15.07</td>\n",
              "      <td>15.12</td>\n",
              "      <td>14.63</td>\n",
              "      <td>14.75</td>\n",
              "      <td>8407500</td>\n",
              "      <td>AAL</td>\n",
              "    </tr>\n",
              "    <tr>\n",
              "      <th>1</th>\n",
              "      <td>2013-02-11</td>\n",
              "      <td>14.89</td>\n",
              "      <td>15.01</td>\n",
              "      <td>14.26</td>\n",
              "      <td>14.46</td>\n",
              "      <td>8882000</td>\n",
              "      <td>AAL</td>\n",
              "    </tr>\n",
              "    <tr>\n",
              "      <th>2</th>\n",
              "      <td>2013-02-12</td>\n",
              "      <td>14.45</td>\n",
              "      <td>14.51</td>\n",
              "      <td>14.10</td>\n",
              "      <td>14.27</td>\n",
              "      <td>8126000</td>\n",
              "      <td>AAL</td>\n",
              "    </tr>\n",
              "    <tr>\n",
              "      <th>3</th>\n",
              "      <td>2013-02-13</td>\n",
              "      <td>14.30</td>\n",
              "      <td>14.94</td>\n",
              "      <td>14.25</td>\n",
              "      <td>14.66</td>\n",
              "      <td>10259500</td>\n",
              "      <td>AAL</td>\n",
              "    </tr>\n",
              "    <tr>\n",
              "      <th>4</th>\n",
              "      <td>2013-02-14</td>\n",
              "      <td>14.94</td>\n",
              "      <td>14.96</td>\n",
              "      <td>13.16</td>\n",
              "      <td>13.99</td>\n",
              "      <td>31879900</td>\n",
              "      <td>AAL</td>\n",
              "    </tr>\n",
              "    <tr>\n",
              "      <th>...</th>\n",
              "      <td>...</td>\n",
              "      <td>...</td>\n",
              "      <td>...</td>\n",
              "      <td>...</td>\n",
              "      <td>...</td>\n",
              "      <td>...</td>\n",
              "      <td>...</td>\n",
              "    </tr>\n",
              "    <tr>\n",
              "      <th>619035</th>\n",
              "      <td>2018-02-01</td>\n",
              "      <td>76.84</td>\n",
              "      <td>78.27</td>\n",
              "      <td>76.69</td>\n",
              "      <td>77.82</td>\n",
              "      <td>2982259</td>\n",
              "      <td>ZTS</td>\n",
              "    </tr>\n",
              "    <tr>\n",
              "      <th>619036</th>\n",
              "      <td>2018-02-02</td>\n",
              "      <td>77.53</td>\n",
              "      <td>78.12</td>\n",
              "      <td>76.73</td>\n",
              "      <td>76.78</td>\n",
              "      <td>2595187</td>\n",
              "      <td>ZTS</td>\n",
              "    </tr>\n",
              "    <tr>\n",
              "      <th>619037</th>\n",
              "      <td>2018-02-05</td>\n",
              "      <td>76.64</td>\n",
              "      <td>76.92</td>\n",
              "      <td>73.18</td>\n",
              "      <td>73.83</td>\n",
              "      <td>2962031</td>\n",
              "      <td>ZTS</td>\n",
              "    </tr>\n",
              "    <tr>\n",
              "      <th>619038</th>\n",
              "      <td>2018-02-06</td>\n",
              "      <td>72.74</td>\n",
              "      <td>74.56</td>\n",
              "      <td>72.13</td>\n",
              "      <td>73.27</td>\n",
              "      <td>4924323</td>\n",
              "      <td>ZTS</td>\n",
              "    </tr>\n",
              "    <tr>\n",
              "      <th>619039</th>\n",
              "      <td>2018-02-07</td>\n",
              "      <td>72.70</td>\n",
              "      <td>75.00</td>\n",
              "      <td>72.69</td>\n",
              "      <td>73.86</td>\n",
              "      <td>4534912</td>\n",
              "      <td>ZTS</td>\n",
              "    </tr>\n",
              "  </tbody>\n",
              "</table>\n",
              "<p>619040 rows × 7 columns</p>\n",
              "</div>"
            ],
            "text/plain": [
              "              date   open   high    low  close    volume Name\n",
              "0       2013-02-08  15.07  15.12  14.63  14.75   8407500  AAL\n",
              "1       2013-02-11  14.89  15.01  14.26  14.46   8882000  AAL\n",
              "2       2013-02-12  14.45  14.51  14.10  14.27   8126000  AAL\n",
              "3       2013-02-13  14.30  14.94  14.25  14.66  10259500  AAL\n",
              "4       2013-02-14  14.94  14.96  13.16  13.99  31879900  AAL\n",
              "...            ...    ...    ...    ...    ...       ...  ...\n",
              "619035  2018-02-01  76.84  78.27  76.69  77.82   2982259  ZTS\n",
              "619036  2018-02-02  77.53  78.12  76.73  76.78   2595187  ZTS\n",
              "619037  2018-02-05  76.64  76.92  73.18  73.83   2962031  ZTS\n",
              "619038  2018-02-06  72.74  74.56  72.13  73.27   4924323  ZTS\n",
              "619039  2018-02-07  72.70  75.00  72.69  73.86   4534912  ZTS\n",
              "\n",
              "[619040 rows x 7 columns]"
            ]
          },
          "metadata": {},
          "execution_count": 2
        }
      ]
    },
    {
      "cell_type": "markdown",
      "metadata": {
        "id": "9jOsfWHJ7tN1"
      },
      "source": [
        "Reorder the columns"
      ]
    },
    {
      "cell_type": "code",
      "metadata": {
        "colab": {
          "base_uri": "https://localhost:8080/",
          "height": 419
        },
        "id": "QT_tmxa8ctrq",
        "outputId": "23289cbd-6b77-43d6-f7e2-c42015ae8008"
      },
      "source": [
        "\n",
        "data = stocks_data\n",
        "data = data[[\"Name\", \"date\", \"open\", \"low\", \"high\", \"close\", \"volume\"]] \n",
        "data = data[(data[\"open\"] != 0) | (data[\"close\"] != 0) | (data[\"volume\"] != 0)]\n",
        "data"
      ],
      "execution_count": null,
      "outputs": [
        {
          "output_type": "execute_result",
          "data": {
            "text/html": [
              "<div>\n",
              "<style scoped>\n",
              "    .dataframe tbody tr th:only-of-type {\n",
              "        vertical-align: middle;\n",
              "    }\n",
              "\n",
              "    .dataframe tbody tr th {\n",
              "        vertical-align: top;\n",
              "    }\n",
              "\n",
              "    .dataframe thead th {\n",
              "        text-align: right;\n",
              "    }\n",
              "</style>\n",
              "<table border=\"1\" class=\"dataframe\">\n",
              "  <thead>\n",
              "    <tr style=\"text-align: right;\">\n",
              "      <th></th>\n",
              "      <th>Name</th>\n",
              "      <th>date</th>\n",
              "      <th>open</th>\n",
              "      <th>low</th>\n",
              "      <th>high</th>\n",
              "      <th>close</th>\n",
              "      <th>volume</th>\n",
              "    </tr>\n",
              "  </thead>\n",
              "  <tbody>\n",
              "    <tr>\n",
              "      <th>0</th>\n",
              "      <td>AAL</td>\n",
              "      <td>2013-02-08</td>\n",
              "      <td>15.07</td>\n",
              "      <td>14.63</td>\n",
              "      <td>15.12</td>\n",
              "      <td>14.75</td>\n",
              "      <td>8407500</td>\n",
              "    </tr>\n",
              "    <tr>\n",
              "      <th>1</th>\n",
              "      <td>AAL</td>\n",
              "      <td>2013-02-11</td>\n",
              "      <td>14.89</td>\n",
              "      <td>14.26</td>\n",
              "      <td>15.01</td>\n",
              "      <td>14.46</td>\n",
              "      <td>8882000</td>\n",
              "    </tr>\n",
              "    <tr>\n",
              "      <th>2</th>\n",
              "      <td>AAL</td>\n",
              "      <td>2013-02-12</td>\n",
              "      <td>14.45</td>\n",
              "      <td>14.10</td>\n",
              "      <td>14.51</td>\n",
              "      <td>14.27</td>\n",
              "      <td>8126000</td>\n",
              "    </tr>\n",
              "    <tr>\n",
              "      <th>3</th>\n",
              "      <td>AAL</td>\n",
              "      <td>2013-02-13</td>\n",
              "      <td>14.30</td>\n",
              "      <td>14.25</td>\n",
              "      <td>14.94</td>\n",
              "      <td>14.66</td>\n",
              "      <td>10259500</td>\n",
              "    </tr>\n",
              "    <tr>\n",
              "      <th>4</th>\n",
              "      <td>AAL</td>\n",
              "      <td>2013-02-14</td>\n",
              "      <td>14.94</td>\n",
              "      <td>13.16</td>\n",
              "      <td>14.96</td>\n",
              "      <td>13.99</td>\n",
              "      <td>31879900</td>\n",
              "    </tr>\n",
              "    <tr>\n",
              "      <th>...</th>\n",
              "      <td>...</td>\n",
              "      <td>...</td>\n",
              "      <td>...</td>\n",
              "      <td>...</td>\n",
              "      <td>...</td>\n",
              "      <td>...</td>\n",
              "      <td>...</td>\n",
              "    </tr>\n",
              "    <tr>\n",
              "      <th>619035</th>\n",
              "      <td>ZTS</td>\n",
              "      <td>2018-02-01</td>\n",
              "      <td>76.84</td>\n",
              "      <td>76.69</td>\n",
              "      <td>78.27</td>\n",
              "      <td>77.82</td>\n",
              "      <td>2982259</td>\n",
              "    </tr>\n",
              "    <tr>\n",
              "      <th>619036</th>\n",
              "      <td>ZTS</td>\n",
              "      <td>2018-02-02</td>\n",
              "      <td>77.53</td>\n",
              "      <td>76.73</td>\n",
              "      <td>78.12</td>\n",
              "      <td>76.78</td>\n",
              "      <td>2595187</td>\n",
              "    </tr>\n",
              "    <tr>\n",
              "      <th>619037</th>\n",
              "      <td>ZTS</td>\n",
              "      <td>2018-02-05</td>\n",
              "      <td>76.64</td>\n",
              "      <td>73.18</td>\n",
              "      <td>76.92</td>\n",
              "      <td>73.83</td>\n",
              "      <td>2962031</td>\n",
              "    </tr>\n",
              "    <tr>\n",
              "      <th>619038</th>\n",
              "      <td>ZTS</td>\n",
              "      <td>2018-02-06</td>\n",
              "      <td>72.74</td>\n",
              "      <td>72.13</td>\n",
              "      <td>74.56</td>\n",
              "      <td>73.27</td>\n",
              "      <td>4924323</td>\n",
              "    </tr>\n",
              "    <tr>\n",
              "      <th>619039</th>\n",
              "      <td>ZTS</td>\n",
              "      <td>2018-02-07</td>\n",
              "      <td>72.70</td>\n",
              "      <td>72.69</td>\n",
              "      <td>75.00</td>\n",
              "      <td>73.86</td>\n",
              "      <td>4534912</td>\n",
              "    </tr>\n",
              "  </tbody>\n",
              "</table>\n",
              "<p>619040 rows × 7 columns</p>\n",
              "</div>"
            ],
            "text/plain": [
              "       Name        date   open    low   high  close    volume\n",
              "0       AAL  2013-02-08  15.07  14.63  15.12  14.75   8407500\n",
              "1       AAL  2013-02-11  14.89  14.26  15.01  14.46   8882000\n",
              "2       AAL  2013-02-12  14.45  14.10  14.51  14.27   8126000\n",
              "3       AAL  2013-02-13  14.30  14.25  14.94  14.66  10259500\n",
              "4       AAL  2013-02-14  14.94  13.16  14.96  13.99  31879900\n",
              "...     ...         ...    ...    ...    ...    ...       ...\n",
              "619035  ZTS  2018-02-01  76.84  76.69  78.27  77.82   2982259\n",
              "619036  ZTS  2018-02-02  77.53  76.73  78.12  76.78   2595187\n",
              "619037  ZTS  2018-02-05  76.64  73.18  76.92  73.83   2962031\n",
              "619038  ZTS  2018-02-06  72.74  72.13  74.56  73.27   4924323\n",
              "619039  ZTS  2018-02-07  72.70  72.69  75.00  73.86   4534912\n",
              "\n",
              "[619040 rows x 7 columns]"
            ]
          },
          "metadata": {},
          "execution_count": 3
        }
      ]
    },
    {
      "cell_type": "markdown",
      "metadata": {
        "id": "f-60368c8Fgz"
      },
      "source": [
        "Display the dataset information"
      ]
    },
    {
      "cell_type": "code",
      "metadata": {
        "colab": {
          "base_uri": "https://localhost:8080/"
        },
        "id": "NQznzYOXczfn",
        "outputId": "24078847-fe25-4ee6-c37a-6bcf513ef1df"
      },
      "source": [
        "data.info()"
      ],
      "execution_count": null,
      "outputs": [
        {
          "output_type": "stream",
          "name": "stdout",
          "text": [
            "<class 'pandas.core.frame.DataFrame'>\n",
            "Int64Index: 619040 entries, 0 to 619039\n",
            "Data columns (total 7 columns):\n",
            " #   Column  Non-Null Count   Dtype  \n",
            "---  ------  --------------   -----  \n",
            " 0   Name    619040 non-null  object \n",
            " 1   date    619040 non-null  object \n",
            " 2   open    619029 non-null  float64\n",
            " 3   low     619032 non-null  float64\n",
            " 4   high    619032 non-null  float64\n",
            " 5   close   619040 non-null  float64\n",
            " 6   volume  619040 non-null  int64  \n",
            "dtypes: float64(4), int64(1), object(2)\n",
            "memory usage: 37.8+ MB\n"
          ]
        }
      ]
    },
    {
      "cell_type": "markdown",
      "metadata": {
        "id": "MTBGeYEk7xcp"
      },
      "source": [
        "Daily movement of each stocks"
      ]
    },
    {
      "cell_type": "code",
      "metadata": {
        "colab": {
          "base_uri": "https://localhost:8080/",
          "height": 450
        },
        "id": "O8f3sM5Gc3Bf",
        "outputId": "c5cf6aff-43d8-46c6-d67b-6acba4cecb1b"
      },
      "source": [
        "open_price = data[\"open\"]\n",
        "close_price = data[\"close\"]\n",
        "daily_movement = ((close_price - open_price)/open_price)*100\n",
        "daily_movement\n",
        "data[\"movement\"] = daily_movement\n",
        "data\n",
        "data = data.groupby([\"Name\"]).mean() \n",
        "data"
      ],
      "execution_count": null,
      "outputs": [
        {
          "output_type": "execute_result",
          "data": {
            "text/html": [
              "<div>\n",
              "<style scoped>\n",
              "    .dataframe tbody tr th:only-of-type {\n",
              "        vertical-align: middle;\n",
              "    }\n",
              "\n",
              "    .dataframe tbody tr th {\n",
              "        vertical-align: top;\n",
              "    }\n",
              "\n",
              "    .dataframe thead th {\n",
              "        text-align: right;\n",
              "    }\n",
              "</style>\n",
              "<table border=\"1\" class=\"dataframe\">\n",
              "  <thead>\n",
              "    <tr style=\"text-align: right;\">\n",
              "      <th></th>\n",
              "      <th>open</th>\n",
              "      <th>low</th>\n",
              "      <th>high</th>\n",
              "      <th>close</th>\n",
              "      <th>volume</th>\n",
              "      <th>movement</th>\n",
              "    </tr>\n",
              "    <tr>\n",
              "      <th>Name</th>\n",
              "      <th></th>\n",
              "      <th></th>\n",
              "      <th></th>\n",
              "      <th></th>\n",
              "      <th></th>\n",
              "      <th></th>\n",
              "    </tr>\n",
              "  </thead>\n",
              "  <tbody>\n",
              "    <tr>\n",
              "      <th>A</th>\n",
              "      <td>49.187863</td>\n",
              "      <td>48.782026</td>\n",
              "      <td>49.600059</td>\n",
              "      <td>49.202025</td>\n",
              "      <td>2.338039e+06</td>\n",
              "      <td>0.042063</td>\n",
              "    </tr>\n",
              "    <tr>\n",
              "      <th>AAL</th>\n",
              "      <td>38.390495</td>\n",
              "      <td>37.825605</td>\n",
              "      <td>38.955554</td>\n",
              "      <td>38.393252</td>\n",
              "      <td>9.390321e+06</td>\n",
              "      <td>0.031150</td>\n",
              "    </tr>\n",
              "    <tr>\n",
              "      <th>AAP</th>\n",
              "      <td>132.439631</td>\n",
              "      <td>131.036025</td>\n",
              "      <td>133.818297</td>\n",
              "      <td>132.433463</td>\n",
              "      <td>1.078043e+06</td>\n",
              "      <td>0.003594</td>\n",
              "    </tr>\n",
              "    <tr>\n",
              "      <th>AAPL</th>\n",
              "      <td>109.055429</td>\n",
              "      <td>108.141589</td>\n",
              "      <td>109.951118</td>\n",
              "      <td>109.066698</td>\n",
              "      <td>5.404790e+07</td>\n",
              "      <td>0.013851</td>\n",
              "    </tr>\n",
              "    <tr>\n",
              "      <th>ABBV</th>\n",
              "      <td>60.802801</td>\n",
              "      <td>60.177275</td>\n",
              "      <td>61.474133</td>\n",
              "      <td>60.864440</td>\n",
              "      <td>7.870683e+06</td>\n",
              "      <td>0.101628</td>\n",
              "    </tr>\n",
              "    <tr>\n",
              "      <th>...</th>\n",
              "      <td>...</td>\n",
              "      <td>...</td>\n",
              "      <td>...</td>\n",
              "      <td>...</td>\n",
              "      <td>...</td>\n",
              "      <td>...</td>\n",
              "    </tr>\n",
              "    <tr>\n",
              "      <th>XYL</th>\n",
              "      <td>41.415473</td>\n",
              "      <td>41.076026</td>\n",
              "      <td>41.763885</td>\n",
              "      <td>41.434095</td>\n",
              "      <td>1.183141e+06</td>\n",
              "      <td>0.049200</td>\n",
              "    </tr>\n",
              "    <tr>\n",
              "      <th>YUM</th>\n",
              "      <td>75.422099</td>\n",
              "      <td>74.844914</td>\n",
              "      <td>76.027123</td>\n",
              "      <td>75.451009</td>\n",
              "      <td>3.209032e+06</td>\n",
              "      <td>0.044405</td>\n",
              "    </tr>\n",
              "    <tr>\n",
              "      <th>ZBH</th>\n",
              "      <td>105.542014</td>\n",
              "      <td>104.698038</td>\n",
              "      <td>106.419854</td>\n",
              "      <td>105.606291</td>\n",
              "      <td>1.297144e+06</td>\n",
              "      <td>0.069291</td>\n",
              "    </tr>\n",
              "    <tr>\n",
              "      <th>ZION</th>\n",
              "      <td>32.161477</td>\n",
              "      <td>31.802241</td>\n",
              "      <td>32.509290</td>\n",
              "      <td>32.171790</td>\n",
              "      <td>2.621178e+06</td>\n",
              "      <td>0.045576</td>\n",
              "    </tr>\n",
              "    <tr>\n",
              "      <th>ZTS</th>\n",
              "      <td>45.091389</td>\n",
              "      <td>44.665588</td>\n",
              "      <td>45.488826</td>\n",
              "      <td>45.098648</td>\n",
              "      <td>3.681878e+06</td>\n",
              "      <td>0.014718</td>\n",
              "    </tr>\n",
              "  </tbody>\n",
              "</table>\n",
              "<p>505 rows × 6 columns</p>\n",
              "</div>"
            ],
            "text/plain": [
              "            open         low        high       close        volume  movement\n",
              "Name                                                                        \n",
              "A      49.187863   48.782026   49.600059   49.202025  2.338039e+06  0.042063\n",
              "AAL    38.390495   37.825605   38.955554   38.393252  9.390321e+06  0.031150\n",
              "AAP   132.439631  131.036025  133.818297  132.433463  1.078043e+06  0.003594\n",
              "AAPL  109.055429  108.141589  109.951118  109.066698  5.404790e+07  0.013851\n",
              "ABBV   60.802801   60.177275   61.474133   60.864440  7.870683e+06  0.101628\n",
              "...          ...         ...         ...         ...           ...       ...\n",
              "XYL    41.415473   41.076026   41.763885   41.434095  1.183141e+06  0.049200\n",
              "YUM    75.422099   74.844914   76.027123   75.451009  3.209032e+06  0.044405\n",
              "ZBH   105.542014  104.698038  106.419854  105.606291  1.297144e+06  0.069291\n",
              "ZION   32.161477   31.802241   32.509290   32.171790  2.621178e+06  0.045576\n",
              "ZTS    45.091389   44.665588   45.488826   45.098648  3.681878e+06  0.014718\n",
              "\n",
              "[505 rows x 6 columns]"
            ]
          },
          "metadata": {},
          "execution_count": 5
        }
      ]
    },
    {
      "cell_type": "code",
      "metadata": {
        "colab": {
          "base_uri": "https://localhost:8080/",
          "height": 419
        },
        "id": "pyEg3yMqc6cP",
        "outputId": "41236ad7-227d-4bc7-fc00-20a60c21ea55"
      },
      "source": [
        "data.reset_index(level=0, drop =2)\n",
        "data.reset_index()"
      ],
      "execution_count": null,
      "outputs": [
        {
          "output_type": "execute_result",
          "data": {
            "text/html": [
              "<div>\n",
              "<style scoped>\n",
              "    .dataframe tbody tr th:only-of-type {\n",
              "        vertical-align: middle;\n",
              "    }\n",
              "\n",
              "    .dataframe tbody tr th {\n",
              "        vertical-align: top;\n",
              "    }\n",
              "\n",
              "    .dataframe thead th {\n",
              "        text-align: right;\n",
              "    }\n",
              "</style>\n",
              "<table border=\"1\" class=\"dataframe\">\n",
              "  <thead>\n",
              "    <tr style=\"text-align: right;\">\n",
              "      <th></th>\n",
              "      <th>Name</th>\n",
              "      <th>open</th>\n",
              "      <th>low</th>\n",
              "      <th>high</th>\n",
              "      <th>close</th>\n",
              "      <th>volume</th>\n",
              "      <th>movement</th>\n",
              "    </tr>\n",
              "  </thead>\n",
              "  <tbody>\n",
              "    <tr>\n",
              "      <th>0</th>\n",
              "      <td>A</td>\n",
              "      <td>49.187863</td>\n",
              "      <td>48.782026</td>\n",
              "      <td>49.600059</td>\n",
              "      <td>49.202025</td>\n",
              "      <td>2.338039e+06</td>\n",
              "      <td>0.042063</td>\n",
              "    </tr>\n",
              "    <tr>\n",
              "      <th>1</th>\n",
              "      <td>AAL</td>\n",
              "      <td>38.390495</td>\n",
              "      <td>37.825605</td>\n",
              "      <td>38.955554</td>\n",
              "      <td>38.393252</td>\n",
              "      <td>9.390321e+06</td>\n",
              "      <td>0.031150</td>\n",
              "    </tr>\n",
              "    <tr>\n",
              "      <th>2</th>\n",
              "      <td>AAP</td>\n",
              "      <td>132.439631</td>\n",
              "      <td>131.036025</td>\n",
              "      <td>133.818297</td>\n",
              "      <td>132.433463</td>\n",
              "      <td>1.078043e+06</td>\n",
              "      <td>0.003594</td>\n",
              "    </tr>\n",
              "    <tr>\n",
              "      <th>3</th>\n",
              "      <td>AAPL</td>\n",
              "      <td>109.055429</td>\n",
              "      <td>108.141589</td>\n",
              "      <td>109.951118</td>\n",
              "      <td>109.066698</td>\n",
              "      <td>5.404790e+07</td>\n",
              "      <td>0.013851</td>\n",
              "    </tr>\n",
              "    <tr>\n",
              "      <th>4</th>\n",
              "      <td>ABBV</td>\n",
              "      <td>60.802801</td>\n",
              "      <td>60.177275</td>\n",
              "      <td>61.474133</td>\n",
              "      <td>60.864440</td>\n",
              "      <td>7.870683e+06</td>\n",
              "      <td>0.101628</td>\n",
              "    </tr>\n",
              "    <tr>\n",
              "      <th>...</th>\n",
              "      <td>...</td>\n",
              "      <td>...</td>\n",
              "      <td>...</td>\n",
              "      <td>...</td>\n",
              "      <td>...</td>\n",
              "      <td>...</td>\n",
              "      <td>...</td>\n",
              "    </tr>\n",
              "    <tr>\n",
              "      <th>500</th>\n",
              "      <td>XYL</td>\n",
              "      <td>41.415473</td>\n",
              "      <td>41.076026</td>\n",
              "      <td>41.763885</td>\n",
              "      <td>41.434095</td>\n",
              "      <td>1.183141e+06</td>\n",
              "      <td>0.049200</td>\n",
              "    </tr>\n",
              "    <tr>\n",
              "      <th>501</th>\n",
              "      <td>YUM</td>\n",
              "      <td>75.422099</td>\n",
              "      <td>74.844914</td>\n",
              "      <td>76.027123</td>\n",
              "      <td>75.451009</td>\n",
              "      <td>3.209032e+06</td>\n",
              "      <td>0.044405</td>\n",
              "    </tr>\n",
              "    <tr>\n",
              "      <th>502</th>\n",
              "      <td>ZBH</td>\n",
              "      <td>105.542014</td>\n",
              "      <td>104.698038</td>\n",
              "      <td>106.419854</td>\n",
              "      <td>105.606291</td>\n",
              "      <td>1.297144e+06</td>\n",
              "      <td>0.069291</td>\n",
              "    </tr>\n",
              "    <tr>\n",
              "      <th>503</th>\n",
              "      <td>ZION</td>\n",
              "      <td>32.161477</td>\n",
              "      <td>31.802241</td>\n",
              "      <td>32.509290</td>\n",
              "      <td>32.171790</td>\n",
              "      <td>2.621178e+06</td>\n",
              "      <td>0.045576</td>\n",
              "    </tr>\n",
              "    <tr>\n",
              "      <th>504</th>\n",
              "      <td>ZTS</td>\n",
              "      <td>45.091389</td>\n",
              "      <td>44.665588</td>\n",
              "      <td>45.488826</td>\n",
              "      <td>45.098648</td>\n",
              "      <td>3.681878e+06</td>\n",
              "      <td>0.014718</td>\n",
              "    </tr>\n",
              "  </tbody>\n",
              "</table>\n",
              "<p>505 rows × 7 columns</p>\n",
              "</div>"
            ],
            "text/plain": [
              "     Name        open         low  ...       close        volume  movement\n",
              "0       A   49.187863   48.782026  ...   49.202025  2.338039e+06  0.042063\n",
              "1     AAL   38.390495   37.825605  ...   38.393252  9.390321e+06  0.031150\n",
              "2     AAP  132.439631  131.036025  ...  132.433463  1.078043e+06  0.003594\n",
              "3    AAPL  109.055429  108.141589  ...  109.066698  5.404790e+07  0.013851\n",
              "4    ABBV   60.802801   60.177275  ...   60.864440  7.870683e+06  0.101628\n",
              "..    ...         ...         ...  ...         ...           ...       ...\n",
              "500   XYL   41.415473   41.076026  ...   41.434095  1.183141e+06  0.049200\n",
              "501   YUM   75.422099   74.844914  ...   75.451009  3.209032e+06  0.044405\n",
              "502   ZBH  105.542014  104.698038  ...  105.606291  1.297144e+06  0.069291\n",
              "503  ZION   32.161477   31.802241  ...   32.171790  2.621178e+06  0.045576\n",
              "504   ZTS   45.091389   44.665588  ...   45.098648  3.681878e+06  0.014718\n",
              "\n",
              "[505 rows x 7 columns]"
            ]
          },
          "metadata": {},
          "execution_count": 6
        }
      ]
    },
    {
      "cell_type": "markdown",
      "metadata": {
        "id": "3nT-l7dt8UVa"
      },
      "source": [
        "Plotting the data before the clustering"
      ]
    },
    {
      "cell_type": "code",
      "metadata": {
        "colab": {
          "base_uri": "https://localhost:8080/",
          "height": 285
        },
        "id": "EEDrquPzc_da",
        "outputId": "b7991966-df24-4447-d8c0-660b3e80b884"
      },
      "source": [
        "sample_data = data.iloc[:, [4,5]].values\n",
        "sample_data\n",
        "from sklearn.preprocessing import StandardScaler\n",
        "scaler = StandardScaler()\n",
        "sample_data = scaler.fit_transform(sample_data);\n",
        "plt.scatter(sample_data[:,0], sample_data[:,1],cmap='viridis')\n",
        "plt.xlabel('volume')\n",
        "plt.ylabel('price')\n",
        "plt.show()"
      ],
      "execution_count": null,
      "outputs": [
        {
          "output_type": "display_data",
          "data": {
            "image/png": "[encoded data removed]",
            "text/plain": [
              "<Figure size 432x288 with 1 Axes>"
            ]
          },
          "metadata": {
            "needs_background": "light"
          }
        }
      ]
    },
    {
      "cell_type": "markdown",
      "metadata": {
        "id": "l_P4MW328lDn"
      },
      "source": [
        "Using the AIC and BIC function to get the optimal number of components to form a cluster"
      ]
    },
    {
      "cell_type": "code",
      "metadata": {
        "colab": {
          "base_uri": "https://localhost:8080/",
          "height": 285
        },
        "id": "LUeQAlyDtU6x",
        "outputId": "81a92c18-304d-4f44-835c-5964e6946dec"
      },
      "source": [
        "from sklearn.mixture import GaussianMixture\n",
        "components_no = np.arange(1, 15)\n",
        "gmm = [GaussianMixture(n, covariance_type='full', random_state=0).fit(sample_data)\n",
        "for n in n_components]\n",
        "plt.plot(components_no, [m.bic(sample_data) for m in gmm], label='BIC')\n",
        "plt.plot(components_no, [m.aic(sample_data) for m in gmm], label='AIC')\n",
        "plt.legend(loc='best')\n",
        "plt.xlabel('components_no');"
      ],
      "execution_count": null,
      "outputs": [
        {
          "output_type": "display_data",
          "data": {
            "image/png": "[encoded data removed]",
            "text/plain": [
              "<Figure size 432x288 with 1 Axes>"
            ]
          },
          "metadata": {
            "needs_background": "light"
          }
        }
      ]
    },
    {
      "cell_type": "markdown",
      "metadata": {
        "id": "iP_JZeMd5u6k"
      },
      "source": [
        "Applying gmm algorithm "
      ]
    },
    {
      "cell_type": "code",
      "metadata": {
        "colab": {
          "base_uri": "https://localhost:8080/",
          "height": 285
        },
        "id": "bO3AXsZqtaLr",
        "outputId": "d05ba979-7da6-4d6b-ee12-d7277493ac5b"
      },
      "source": [
        "gmm = GaussianMixture(n_components=3).fit(sample_data)\n",
        "labels = gmm.predict(sample_data)\n",
        "plt.scatter(sample_data[:,0], sample_data[:,1], c=labels, s=30, cmap='viridis');\n",
        "plt.xlabel('volume')\n",
        "plt.ylabel('price')\n",
        "plt.show()"
      ],
      "execution_count": null,
      "outputs": [
        {
          "output_type": "display_data",
          "data": {
            "image/png": "[encoded data removed]",
            "text/plain": [
              "<Figure size 432x288 with 1 Axes>"
            ]
          },
          "metadata": {
            "needs_background": "light"
          }
        }
      ]
    },
    {
      "cell_type": "markdown",
      "metadata": {
        "id": "0SIWdcYm5put"
      },
      "source": [
        "find probabilistic cluster assignments"
      ]
    },
    {
      "cell_type": "code",
      "metadata": {
        "colab": {
          "base_uri": "https://localhost:8080/"
        },
        "id": "sTSIbIIdtfOH",
        "outputId": "138d4137-b41e-48c3-b53c-992b600f09eb"
      },
      "source": [
        "probs = gmm.predict_proba(sample_data)\n",
        "print(probs[:5].round(3))"
      ],
      "execution_count": null,
      "outputs": [
        {
          "output_type": "stream",
          "name": "stdout",
          "text": [
            "[[0.949 0.05  0.001]\n",
            " [0.    0.961 0.039]\n",
            " [0.889 0.107 0.004]\n",
            " [0.    0.    1.   ]\n",
            " [0.    0.918 0.082]]\n"
          ]
        }
      ]
    },
    {
      "cell_type": "markdown",
      "metadata": {
        "id": "1qcHLza85iVC"
      },
      "source": [
        "Visualizing uncertainity of the cluster assignment"
      ]
    },
    {
      "cell_type": "code",
      "metadata": {
        "colab": {
          "base_uri": "https://localhost:8080/",
          "height": 268
        },
        "id": "OJfP3d1stmJB",
        "outputId": "c92b11bf-bba9-4d1c-9163-4db89d04fd3e"
      },
      "source": [
        "size = 50*probs.max(1)**2\n",
        "plt.scatter(testsample_data_data[:,0], sample_data[:,1], c=labels, s=size, cmap='viridis');"
      ],
      "execution_count": null,
      "outputs": [
        {
          "output_type": "display_data",
          "data": {
            "image/png": "[encoded data removed]",
            "text/plain": [
              "<Figure size 432x288 with 1 Axes>"
            ]
          },
          "metadata": {
            "needs_background": "light"
          }
        }
      ]
    },
    {
      "cell_type": "markdown",
      "metadata": {
        "id": "JvyW7tWg3x0Y"
      },
      "source": [
        "\n",
        "Function to visualize the locations and shapes of the GMM clusters by drawing ellipses based on the GMM output:"
      ]
    },
    {
      "cell_type": "code",
      "metadata": {
        "id": "6pkfrAnowGjW"
      },
      "source": [
        "from matplotlib.patches import Ellipse\n",
        "\n",
        "def draw_ellipse(position, covariance, ax=None, **kwargs):\n",
        "    \"\"\"Draw an ellipse with a given position and covariance\"\"\"\n",
        "    ax = ax or plt.gca()\n",
        "    \n",
        "    # Convert covariance to principal axes\n",
        "    if covariance.shape == (2, 2):\n",
        "        U, s, Vt = np.linalg.svd(covariance)\n",
        "        angle = np.degrees(np.arctan2(U[1, 0], U[0, 0]))\n",
        "        width, height = 2 * np.sqrt(s)\n",
        "    else:\n",
        "        angle = 0\n",
        "        width, height = 2 * np.sqrt(covariance)\n",
        "    \n",
        "    # Draw the Ellipse\n",
        "    for nsig in range(1, 4):\n",
        "        ax.add_patch(Ellipse(position, nsig * width, nsig * height,\n",
        "                             angle, **kwargs))\n",
        "        \n",
        "def plot_gmm(gmm, X, label=True, ax=None):\n",
        "    plt.figure(figsize = (10,8))\n",
        "    ax = ax or plt.gca()\n",
        "    labels = gmm.fit(X).predict(X)\n",
        "    if label:\n",
        "        ax.scatter(X[:, 0], X[:, 1], c=labels, s=40, cmap='viridis', zorder=2)\n",
        "    else:\n",
        "        ax.scatter(X[:, 0], X[:, 1], s=40, zorder=2)\n",
        "    ax.axis('equal')\n",
        "    \n",
        "    w_factor = 0.2 / gmm.weights_.max()\n",
        "    for pos, covar, w in zip(gmm.means_, gmm.covariances_, gmm.weights_):\n",
        "        draw_ellipse(pos, covar, alpha=w * w_factor)"
      ],
      "execution_count": null,
      "outputs": []
    },
    {
      "cell_type": "markdown",
      "metadata": {
        "id": "hdRmjp_n3OUl"
      },
      "source": [
        "Clustering with 3 components"
      ]
    },
    {
      "cell_type": "code",
      "metadata": {
        "colab": {
          "base_uri": "https://localhost:8080/",
          "height": 502
        },
        "id": "O2SB-WlywOiu",
        "outputId": "d5e6a961-8d92-40f3-8355-31169e226d3a"
      },
      "source": [
        "gmm = GaussianMixture(n_components=3)\n",
        "plot_gmm(gmm,sample_data)\n",
        "plt.xlabel('volume')\n",
        "plt.ylabel('price')\n",
        "plt.show()"
      ],
      "execution_count": null,
      "outputs": [
        {
          "output_type": "display_data",
          "data": {
            "image/png": "[encoded data removed]",
            "text/plain": [
              "<Figure size 720x576 with 1 Axes>"
            ]
          },
          "metadata": {
            "needs_background": "light"
          }
        }
      ]
    },
    {
      "cell_type": "markdown",
      "metadata": {
        "id": "C2saQuZ43SFs"
      },
      "source": [
        "When comparing K-Means Algorithm with Gaussian Mixture Model Algorithm, I observed Gmm has better mechanism to perform clustering.\n",
        "\n",
        "K-Means uses Hard Assignment, where it sets the centroid and apply clustering on the data points near the centroid based on the mean. Whereas, Gmm uses Soft Assignment where it uses probability to assign the data point to a cluster.\n",
        "\n",
        "K-Means uses Elbow method to get the optimized number of clusters which might not be as optimal as we can get in Gmm using AIC and BIC functions.\n",
        "\n",
        "Gmm provides better clustering as it can work with any type of data and does not consider the geographical shape of the data. Whereas K-Means assumes the data as spherical/circular which might limit the scope of clustering."
      ]
    }
  ]
}